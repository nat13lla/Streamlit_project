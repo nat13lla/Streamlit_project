{
  "nbformat": 4,
  "nbformat_minor": 0,
  "metadata": {
    "colab": {
      "provenance": [],
      "authorship_tag": "ABX9TyOargM03+lk7LWzEkfLBUzZ",
      "include_colab_link": true
    },
    "kernelspec": {
      "name": "python3",
      "display_name": "Python 3"
    },
    "language_info": {
      "name": "python"
    }
  },
  "cells": [
    {
      "cell_type": "markdown",
      "metadata": {
        "id": "view-in-github",
        "colab_type": "text"
      },
      "source": [
        "<a href=\"https://colab.research.google.com/github/nat13lla/Streamlit_project/blob/main/Task_Master.ipynb\" target=\"_parent\"><img src=\"https://colab.research.google.com/assets/colab-badge.svg\" alt=\"Open In Colab\"/></a>"
      ]
    },
    {
      "cell_type": "code",
      "execution_count": null,
      "metadata": {
        "id": "RzppiNA2Gqvt"
      },
      "outputs": [],
      "source": [
        "import streamlit as st\n",
        "from datetime import datetime\n",
        "\n",
        "def main():\n",
        "    st.title(\"Task Manager App\")\n",
        "\n",
        "    task_name = st.text_input(\"Enter task name:\")\n",
        "    due_date = st.date_input(\"Enter due date:\")\n",
        "    importance_input = st.selectbox(\"Importance:\", [\"Low\", \"Medium\", \"High\"])\n",
        "\n",
        "    if 'tasks' not in st.session_state:\n",
        "        st.session_state.tasks = []\n",
        "\n",
        "    if st.button(\"Add Task\"):\n",
        "        if task_name:\n",
        "            task_due_date = due_date.strftime(\"%Y-%m-%d\")\n",
        "            st.session_state.tasks.append({\"task\": task_name, \"due_date\": task_due_date, \"importance\": importance_input})\n",
        "            st.success(\"Task added successfully!\")\n",
        "        else:\n",
        "            st.error(\"Please enter a task name.\")\n",
        "\n",
        "    if st.session_state.tasks:\n",
        "        st.header(\"Task List\")\n",
        "        for i, task in enumerate(st.session_state.tasks, start=1):\n",
        "            st.checkbox(f\"{i}. {task['task']} (Due: {task['due_date']}), (Importance: {task['importance']})\")\n",
        "\n",
        "if __name__ == \"__main__\":\n",
        "    main()"
      ]
    }
  ]
}